{
 "cells": [
  {
   "cell_type": "code",
   "execution_count": null,
   "metadata": {
    "polyglot_notebook": {
     "kernelName": "csharp"
    }
   },
   "outputs": [],
   "source": [
    "%%python\n",
    "def hello_world():\n",
    "    print(\"Hello, World!\")\n",
    "\n",
    "# Call the function\n",
    "hello_world()\n"
   ]
  },
  {
   "cell_type": "code",
   "execution_count": null,
   "metadata": {},
   "outputs": [],
   "source": [
    "import random\n",
    "\n",
    "# Generate a list of realistic stock price data\n",
    "stock_prices = [round(random.uniform(100, 200), 2) for _ in range(100)]\n",
    "print(stock_prices)"
   ]
  },
  {
   "cell_type": "code",
   "execution_count": null,
   "metadata": {},
   "outputs": [],
   "source": [
    "import matplotlib.pyplot as plt\n",
    "\n",
    "# Plot the stock prices\n",
    "plt.plot(stock_prices)\n",
    "plt.title(\"Stock Prices Over Time\")\n",
    "plt.xlabel(\"Time\")\n",
    "plt.ylabel(\"Price\")\n",
    "plt.show()"
   ]
  },
  {
   "cell_type": "code",
   "execution_count": 1,
   "metadata": {},
   "outputs": [
    {
     "name": "stdout",
     "output_type": "stream",
     "text": [
      "[{'Age': 34, 'Salary': 48737.64, 'Nationality': 'Canada'}, {'Age': 58, 'Salary': 84850.84, 'Nationality': 'Canada'}, {'Age': 30, 'Salary': 84741.14, 'Nationality': 'Germany'}, {'Age': 54, 'Salary': 85855.7, 'Nationality': 'USA'}, {'Age': 22, 'Salary': 31108.64, 'Nationality': 'UK'}, {'Age': 27, 'Salary': 48979.5, 'Nationality': 'Canada'}, {'Age': 35, 'Salary': 46537.44, 'Nationality': 'Germany'}, {'Age': 45, 'Salary': 82631.29, 'Nationality': 'India'}, {'Age': 43, 'Salary': 46361.04, 'Nationality': 'UK'}, {'Age': 24, 'Salary': 98917.5, 'Nationality': 'India'}, {'Age': 23, 'Salary': 47231.16, 'Nationality': 'Germany'}, {'Age': 24, 'Salary': 70352.63, 'Nationality': 'India'}, {'Age': 55, 'Salary': 68681.4, 'Nationality': 'USA'}, {'Age': 55, 'Salary': 106608.67, 'Nationality': 'UK'}, {'Age': 64, 'Salary': 93926.53, 'Nationality': 'Germany'}, {'Age': 38, 'Salary': 63507.45, 'Nationality': 'Germany'}, {'Age': 52, 'Salary': 60254.06, 'Nationality': 'Australia'}, {'Age': 26, 'Salary': 94827.46, 'Nationality': 'Germany'}, {'Age': 27, 'Salary': 91327.94, 'Nationality': 'USA'}, {'Age': 64, 'Salary': 104933.49, 'Nationality': 'USA'}, {'Age': 58, 'Salary': 41502.73, 'Nationality': 'Canada'}, {'Age': 57, 'Salary': 41940.64, 'Nationality': 'India'}, {'Age': 46, 'Salary': 98827.37, 'Nationality': 'Germany'}, {'Age': 27, 'Salary': 62290.37, 'Nationality': 'Germany'}, {'Age': 39, 'Salary': 105807.84, 'Nationality': 'Canada'}, {'Age': 41, 'Salary': 66367.53, 'Nationality': 'UK'}, {'Age': 32, 'Salary': 74598.13, 'Nationality': 'Canada'}, {'Age': 65, 'Salary': 60405.19, 'Nationality': 'Canada'}, {'Age': 47, 'Salary': 36820.92, 'Nationality': 'Canada'}, {'Age': 57, 'Salary': 106596.91, 'Nationality': 'Germany'}, {'Age': 22, 'Salary': 38563.82, 'Nationality': 'Australia'}, {'Age': 59, 'Salary': 31060.19, 'Nationality': 'USA'}, {'Age': 28, 'Salary': 109756.19, 'Nationality': 'Canada'}, {'Age': 37, 'Salary': 101194.46, 'Nationality': 'Canada'}, {'Age': 22, 'Salary': 52548.74, 'Nationality': 'Canada'}, {'Age': 32, 'Salary': 83933.66, 'Nationality': 'Germany'}, {'Age': 20, 'Salary': 31338.56, 'Nationality': 'UK'}, {'Age': 59, 'Salary': 91344.18, 'Nationality': 'USA'}, {'Age': 37, 'Salary': 113355.78, 'Nationality': 'Australia'}, {'Age': 53, 'Salary': 116177.83, 'Nationality': 'Australia'}, {'Age': 62, 'Salary': 117123.6, 'Nationality': 'Canada'}, {'Age': 50, 'Salary': 46915.86, 'Nationality': 'UK'}, {'Age': 19, 'Salary': 50665.61, 'Nationality': 'Australia'}, {'Age': 33, 'Salary': 30522.02, 'Nationality': 'Germany'}, {'Age': 48, 'Salary': 86210.49, 'Nationality': 'India'}, {'Age': 65, 'Salary': 30821.51, 'Nationality': 'Canada'}, {'Age': 59, 'Salary': 106990.3, 'Nationality': 'UK'}, {'Age': 62, 'Salary': 106399.86, 'Nationality': 'India'}, {'Age': 19, 'Salary': 37254.03, 'Nationality': 'Canada'}, {'Age': 42, 'Salary': 80239.61, 'Nationality': 'Australia'}]\n"
     ]
    }
   ],
   "source": [
    "import random\n",
    "# Generate test data for user information\n",
    "user_data = [\n",
    "    {\n",
    "        \"Age\": random.randint(18, 65),\n",
    "        \"Salary\": round(random.uniform(30000, 120000), 2),\n",
    "        \"Nationality\": random.choice([\"USA\", \"Canada\", \"UK\", \"Germany\", \"India\", \"Australia\"])\n",
    "    }\n",
    "    for _ in range(50)\n",
    "]\n",
    "\n",
    "# Display the generated user data\n",
    "print(user_data)"
   ]
  },
  {
   "cell_type": "code",
   "execution_count": null,
   "metadata": {},
   "outputs": [],
   "source": [
    "average_age = sum(user[\"Age\"] for user in user_data) / len(user_data)\n",
    "print(f\"Average Age: {average_age:.2f}\")\n",
    "average_salary = sum(user[\"Salary\"] for user in user_data) / len(user_data)\n",
    "print(f\"Average Salary: {average_salary:.2f}\")"
   ]
  },
  {
   "cell_type": "code",
   "execution_count": 2,
   "metadata": {},
   "outputs": [
    {
     "name": "stdout",
     "output_type": "stream",
     "text": [
      "             Age         Salary\n",
      "count  50.000000      50.000000\n",
      "mean   41.940000   72358.909000\n",
      "std    14.983542   27846.592987\n",
      "min    19.000000   30522.020000\n",
      "25%    27.250000   46994.685000\n",
      "50%    41.500000   72475.380000\n",
      "75%    56.500000   97827.392500\n",
      "max    65.000000  117123.600000\n"
     ]
    }
   ],
   "source": [
    "import pandas as pd\n",
    "\n",
    "# Convert user_data to a pandas DataFrame\n",
    "user_df = pd.DataFrame(user_data)\n",
    "\n",
    "# Calculate statistics\n",
    "stats = user_df.describe()\n",
    "\n",
    "# Display the statistics\n",
    "print(stats)"
   ]
  }
 ],
 "metadata": {
  "kernelspec": {
   "display_name": "Python 3",
   "language": "python",
   "name": "python3"
  },
  "language_info": {
   "codemirror_mode": {
    "name": "ipython",
    "version": 3
   },
   "file_extension": ".py",
   "mimetype": "text/x-python",
   "name": "python",
   "nbconvert_exporter": "python",
   "pygments_lexer": "ipython3",
   "version": "3.13.2"
  }
 },
 "nbformat": 4,
 "nbformat_minor": 2
}
